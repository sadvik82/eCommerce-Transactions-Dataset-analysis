{
 "cells": [
  {
   "cell_type": "code",
   "execution_count": 9,
   "id": "3dcec062-114b-4f46-bb05-01e95d2af240",
   "metadata": {},
   "outputs": [],
   "source": [
    "import pandas as pd\n",
    "import numpy as np\n",
    "from sklearn.preprocessing import StandardScaler\n",
    "from sklearn.metrics.pairwise import cosine_similarity"
   ]
  },
  {
   "cell_type": "code",
   "execution_count": 11,
   "id": "a62808da-ee58-4aa8-9138-a01b4ac78cbd",
   "metadata": {},
   "outputs": [],
   "source": [
    "def load_data():\n",
    "    customers = pd.read_csv(\"Customers.csv\")\n",
    "    products = pd.read_csv(\"Products.csv\")\n",
    "    transactions = pd.read_csv(\"Transactions.csv\")\n",
    "\n",
    "    return customers, products, transactions"
   ]
  },
  {
   "cell_type": "code",
   "execution_count": 13,
   "id": "f29d7445-6db4-4957-9af2-97f003802fb4",
   "metadata": {},
   "outputs": [],
   "source": [
    "def preprocess_data(customers, products, transactions):\n",
    "\n",
    "    customers['SignupDate'] = pd.to_datetime(customers['SignupDate'])\n",
    "    transactions['TransactionDate'] = pd.to_datetime(transactions['TransactionDate'])\n",
    "\n",
    "    merged = transactions.merge(products, on='ProductID', how='left')\n",
    "    merged = merged.merge(customers, on='CustomerID', how='left')\n",
    "\n",
    "    return merged"
   ]
  },
  {
   "cell_type": "code",
   "execution_count": 15,
   "id": "b5114410-9774-4472-a7d4-22ed0e39dbcb",
   "metadata": {},
   "outputs": [],
   "source": [
    "def create_features(merged):\n",
    "    # Aggregate features at the customer level\n",
    "    customer_features = merged.groupby('CustomerID').agg(\n",
    "        total_transactions=('TransactionID', 'count'),\n",
    "        total_spending=('TotalValue', 'sum'),\n",
    "        avg_spending=('TotalValue', 'mean'),\n",
    "        most_frequent_category=('Category', lambda x: x.mode()[0] if not x.mode().empty else 'Unknown'),\n",
    "        region=('Region', 'first')\n",
    "    ).reset_index()\n",
    "\n",
    "    customer_features = pd.get_dummies(customer_features, columns=['region', 'most_frequent_category'], drop_first=True)\n",
    "\n",
    "    return customer_features"
   ]
  },
  {
   "cell_type": "code",
   "execution_count": 17,
   "id": "27f5d29a-cb53-4315-aaaa-105e3355a58c",
   "metadata": {},
   "outputs": [],
   "source": [
    "def calculate_similarity(features):\n",
    "    # Standardize features\n",
    "    scaler = StandardScaler()\n",
    "    scaled_features = scaler.fit_transform(features.iloc[:, 1:])\n",
    "\n",
    "    # Compute cosine similarity\n",
    "    similarity_matrix = cosine_similarity(scaled_features)\n",
    "    return similarity_matrix"
   ]
  },
  {
   "cell_type": "code",
   "execution_count": 19,
   "id": "17240d9a-7fc8-4c6d-9e53-45360e2ac102",
   "metadata": {},
   "outputs": [],
   "source": [
    "def generate_recommendations(similarity_matrix, customer_ids, target_ids):\n",
    "    recommendations = {}\n",
    "    \n",
    "    for i, target_id in enumerate(target_ids):\n",
    "        # Get similarities for the target customer\n",
    "        similarities = similarity_matrix[i]\n",
    "        \n",
    "        # Exclude the target customer and sort by similarity\n",
    "        similar_customers = np.argsort(similarities)[::-1][1:4]\n",
    "        scores = similarities[similar_customers]\n",
    "        \n",
    "        # Map customer IDs and scores\n",
    "        recommendations[target_id] = [(customer_ids[idx], score) for idx, score in zip(similar_customers, scores)]\n",
    "\n",
    "    return recommendations"
   ]
  },
  {
   "cell_type": "code",
   "execution_count": 21,
   "id": "41b9b2b0-0a79-4242-97a8-092bd5945fe7",
   "metadata": {},
   "outputs": [],
   "source": [
    "def main():\n",
    "    customers, products, transactions = load_data()\n",
    "    merged = preprocess_data(customers, products, transactions)\n",
    "    customer_features = create_features(merged)\n",
    "\n",
    "    customer_ids = customer_features['CustomerID'].tolist()\n",
    "    similarity_matrix = calculate_similarity(customer_features)\n",
    "\n",
    "    target_ids = customer_ids[:20]  # First 20 customers (C0001 - C0020)\n",
    "    recommendations = generate_recommendations(similarity_matrix, customer_ids, target_ids)\n",
    "\n",
    "    lookalike_df = pd.DataFrame({\n",
    "        \"CustomerID\": target_ids,\n",
    "        \"Recommendations\": [\n",
    "            [\n",
    "                {\"LookalikeID\": rec[0], \"Score\": rec[1]} for rec in recommendations[customer_id]\n",
    "            ] for customer_id in target_ids\n",
    "        ]\n",
    "    })\n",
    "    lookalike_df.to_csv(\"Sadvik_Chinthala_Lookalike.csv\", index=False)\n",
    "    "
   ]
  },
  {
   "cell_type": "code",
   "execution_count": 23,
   "id": "f2e48711-e02d-46e9-9862-bc166445ea3f",
   "metadata": {},
   "outputs": [],
   "source": [
    "if __name__ == \"__main__\":\n",
    "    main()"
   ]
  },
  {
   "cell_type": "code",
   "execution_count": null,
   "id": "3a069cff-4519-47f0-ba4b-9b81e1d994d1",
   "metadata": {},
   "outputs": [],
   "source": []
  }
 ],
 "metadata": {
  "kernelspec": {
   "display_name": "Python 3 (ipykernel)",
   "language": "python",
   "name": "python3"
  },
  "language_info": {
   "codemirror_mode": {
    "name": "ipython",
    "version": 3
   },
   "file_extension": ".py",
   "mimetype": "text/x-python",
   "name": "python",
   "nbconvert_exporter": "python",
   "pygments_lexer": "ipython3",
   "version": "3.12.4"
  }
 },
 "nbformat": 4,
 "nbformat_minor": 5
}
